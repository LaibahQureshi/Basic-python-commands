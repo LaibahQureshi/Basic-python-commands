{
 "cells": [
  {
   "cell_type": "markdown",
   "id": "ae60b8fc-cd5a-4b8f-a928-b72b28e85710",
   "metadata": {},
   "source": [
    "\n",
    "<h1 align = \"center\"> Assignment On  if...elif...else </h1>\n",
    "<h3 align=\"center\">Center of Geographical Information System (GIS)</h3>\n",
    "<h3 align=\"center\"> Mphil (GIS) and Remote Sensing 2024-2026</h3>"
   ]
  },
  {
   "cell_type": "markdown",
   "id": "3d8cc7af-a37e-455e-a12a-044969dbadc7",
   "metadata": {},
   "source": [
    "## LAIBAH SAEED\n",
    "#### ROLL NO : 1\n",
    "#### Semester : 1"
   ]
  },
  {
   "cell_type": "markdown",
   "id": "d6c26166-8e87-4428-83e8-5f40de900959",
   "metadata": {},
   "source": [
    "## Question 1"
   ]
  },
  {
   "cell_type": "markdown",
   "id": "e2bf17d1-ff31-4c3c-9a1b-8fa33cb519d0",
   "metadata": {},
   "source": [
    "## Write a Python program that takes an integer input and checks whether the number is even or odd."
   ]
  },
  {
   "cell_type": "code",
   "execution_count": 137,
   "id": "86fd6469-5f16-4f08-ad72-7d475d1087e1",
   "metadata": {},
   "outputs": [
    {
     "name": "stdin",
     "output_type": "stream",
     "text": [
      "Please enter a Number :  10\n"
     ]
    },
    {
     "name": "stdout",
     "output_type": "stream",
     "text": [
      "The Number is Even 10\n"
     ]
    }
   ],
   "source": [
    "Number = int(input(\"Please enter a Number : \",)) \n",
    "if Number % 2 == 0:\n",
    "  print(\"The Number is Even\",Number)\n",
    "else:\n",
    "    print(\"The Number is Odd\")"
   ]
  },
  {
   "cell_type": "markdown",
   "id": "fb36dae5-79db-4029-8c19-014d35d4fb00",
   "metadata": {},
   "source": [
    "## Question 2"
   ]
  },
  {
   "cell_type": "markdown",
   "id": "6a6d5639-949b-4ce8-9769-61b59934c333",
   "metadata": {},
   "source": [
    "## Write a Python program to input a student's marks and print \"Pass\" if the marks are 40 or above; otherwise, print \"Fail.\""
   ]
  },
  {
   "cell_type": "code",
   "execution_count": 26,
   "id": "12cad9cf-7064-43d8-b80e-9406846cb29b",
   "metadata": {},
   "outputs": [
    {
     "name": "stdin",
     "output_type": "stream",
     "text": [
      "Kindly enter your marks =  80\n"
     ]
    },
    {
     "name": "stdout",
     "output_type": "stream",
     "text": [
      "Congratulations !! You are pass.\n"
     ]
    }
   ],
   "source": [
    "Marks = int(input(\"Kindly enter your Marks = \"))\n",
    "if Marks > 40 :\n",
    "    print(\"Congratulations !! You are Pass.\")\n",
    "else :\n",
    "    print(\"ooops ! you are fail :( \")"
   ]
  },
  {
   "cell_type": "markdown",
   "id": "41f01dc2-21c8-493b-a03f-e48a646f46f0",
   "metadata": {},
   "source": [
    "## Question 3"
   ]
  },
  {
   "cell_type": "markdown",
   "id": "44cd275c-224c-4ddd-8fd3-ae3e95a6af00",
   "metadata": {},
   "source": [
    "## Write a program that takes an integer as input and determines if it is positive, negaive, or zero."
   ]
  },
  {
   "cell_type": "code",
   "execution_count": 141,
   "id": "52b5cd0b-888d-4be1-b420-8d5fb583e7f8",
   "metadata": {},
   "outputs": [
    {
     "name": "stdin",
     "output_type": "stream",
     "text": [
      "Enter Number =  10\n"
     ]
    },
    {
     "name": "stdout",
     "output_type": "stream",
     "text": [
      "The Number 10 is Positive \n"
     ]
    }
   ],
   "source": [
    "integer = int(input(\"Enter Number = \"))\n",
    "intger = type(\"Integer\")\n",
    "if integer > 0 :\n",
    "    print(\"The Number {} is Positive \".format(integer) )\n",
    "elif integer < 0 :\n",
    "    print(\"The Number {} is Negative \".format(integer) )\n",
    "else :\n",
    "    print(\"The Number is zero\")"
   ]
  },
  {
   "cell_type": "markdown",
   "id": "2e384e46-2570-4ff7-9bb7-013e310754bf",
   "metadata": {},
   "source": [
    "## Question 4"
   ]
  },
  {
   "cell_type": "markdown",
   "id": "99326ab4-f9b7-44e8-a3e0-a33e29801b0c",
   "metadata": {},
   "source": [
    "## Compare Two Numbers\n",
    "## Write a Python program that inputs two numbers and prints which one is greater. If they are equal, print \"Both are equal.\""
   ]
  },
  {
   "cell_type": "code",
   "execution_count": 144,
   "id": "2973f524-7cd8-4c67-a852-2c2614580b9f",
   "metadata": {},
   "outputs": [
    {
     "name": "stdin",
     "output_type": "stream",
     "text": [
      "Enter Num_1 10\n",
      "Enter Num_2 19\n"
     ]
    },
    {
     "name": "stdout",
     "output_type": "stream",
     "text": [
      "Num_2 19 is Greater\n"
     ]
    }
   ],
   "source": [
    "Num_1 = int(input(\"Enter Num_1\"))\n",
    "Num_2 = int(input(\"Enter Num_2\"))\n",
    "if Num_1 > Num_2:\n",
    "    print(\"Num_1 {} is Greater\".format(Num_1))\n",
    "elif Num_1 < Num_2:\n",
    "   print(\"Num_2 {} is Greater\".format(Num_2))\n",
    "else:  \n",
    "    print(\"Equal\")"
   ]
  },
  {
   "cell_type": "markdown",
   "id": "be88e0ab-de2a-4465-864a-172e0117deb1",
   "metadata": {},
   "source": [
    "## Question 5"
   ]
  },
  {
   "cell_type": "markdown",
   "id": "62d884e2-f955-4bea-ba3b-5200e5770986",
   "metadata": {},
   "source": [
    "## Check Leap Year\n",
    "## Write a program that takes a year as input and determines if it is a leap year. A year is a leap year if it is divisible by 4 but not divisible by 100, except if it is also divisible by 400."
   ]
  },
  {
   "cell_type": "code",
   "execution_count": 146,
   "id": "9af35d3b-50d0-4c27-8cc5-268fddfa4a5c",
   "metadata": {},
   "outputs": [
    {
     "name": "stdin",
     "output_type": "stream",
     "text": [
      "Year 2024\n"
     ]
    },
    {
     "name": "stdout",
     "output_type": "stream",
     "text": [
      "Leap Year\n"
     ]
    }
   ],
   "source": [
    "Year = int(input(\"Year\"))\n",
    "if Year % 4 == 0 or Year % 400 == 0 and Year % 100 != 0 :\n",
    "    print(\"Leap Year\")\n",
    "else:  \n",
    "    print(\"not Leap Year\")"
   ]
  },
  {
   "cell_type": "markdown",
   "id": "06ae553b-36cf-4618-a5b3-ae0c285a3013",
   "metadata": {},
   "source": [
    "## Question 7\n",
    "## Check Triangle Validity\n",
    "## Write a program that takes three side lengths of a triangle as input and checks if they form a valid triangle. A triangle is valid if the sum of any two sides is greater than the third side."
   ]
  },
  {
   "cell_type": "code",
   "execution_count": 150,
   "id": "19b51353-9aee-4934-bf23-1c7dbe3d6586",
   "metadata": {},
   "outputs": [
    {
     "name": "stdin",
     "output_type": "stream",
     "text": [
      "Enter Value =  200\n",
      "Enter Value =  100\n",
      "Enter Value =  300\n"
     ]
    },
    {
     "name": "stdout",
     "output_type": "stream",
     "text": [
      "This is not valid Triangle\n"
     ]
    }
   ],
   "source": [
    "Side_1 = int(input(\"Enter Value = \"))\n",
    "Side_2 = int(input(\"Enter Value = \"))\n",
    "Side_3 = int(input(\"Enter Value = \"))\n",
    "if Side_1 + Side_2 > Side_3 :\n",
    "    print(\"This is valid Triangle\")\n",
    "else :\n",
    "    print(\"This is not valid Triangle\")"
   ]
  },
  {
   "cell_type": "markdown",
   "id": "8cebd3b8-3601-418b-8f80-737e17e531a8",
   "metadata": {},
   "source": [
    "## Question 6\n"
   ]
  },
  {
   "cell_type": "markdown",
   "id": "86a1939c-a80c-4591-888f-b7c8270eac10",
   "metadata": {},
   "source": [
    "## Grading System\n",
    "Write a Python program that takes marks as input and prints the grade using the following condi�ons:\n",
    "o 90 and above: \"A\"\n",
    "o 80 to 89: \"B\"\n",
    "o 70 to 79: \"C\"\n",
    "o 60 to 69: \"D\"\n",
    "o Below 60: \"F\""
   ]
  },
  {
   "cell_type": "code",
   "execution_count": 158,
   "id": "2ae44d8f-e9a0-45e3-b8a7-e8aecebd9acd",
   "metadata": {},
   "outputs": [
    {
     "name": "stdin",
     "output_type": "stream",
     "text": [
      "Please Enter your Marks 60\n"
     ]
    },
    {
     "name": "stdout",
     "output_type": "stream",
     "text": [
      "Oops you got 60 Marks and D Grade.\n"
     ]
    }
   ],
   "source": [
    "Marks = int(input(\"Please Enter your Marks\"))\n",
    "if Marks >= 90 :\n",
    "    print(\"Congratulation you got {} Marks and A Grade.\".format(Marks))\n",
    "elif  Marks >= 80:\n",
    "    print(\"Congratulation you got {} Marks and B Grade.\".format(Marks))\n",
    "elif  Marks >= 70 :\n",
    "    print(\"Oops you got {} Marks and C Grade.\".format(Marks))\n",
    "elif  Marks >= 60:\n",
    "    print(\"Oops you got {} Marks and D Grade.\".format(Marks))\n",
    "else:\n",
    "    print(\"Oops you got {} Marks and F Grade.\".format(Marks))\n"
   ]
  },
  {
   "cell_type": "markdown",
   "id": "62518d3a-0f46-4ccc-95f1-f0c2bbaadccf",
   "metadata": {},
   "source": [
    "## Question 8\n",
    "## Nested If: Age and Nationality Check\n",
    "Write a Python program that asks the user for their age and nationality. Print \"Eligible to Vote\" if the age is 18 or\n",
    "above and nationality is \"Indian.\" Otherwise, print \"Not Eligible to Vote.\"\n"
   ]
  },
  {
   "cell_type": "code",
   "execution_count": null,
   "id": "3d89d90d-827d-4a58-9f74-a8ba8ead54e3",
   "metadata": {
    "scrolled": true
   },
   "outputs": [],
   "source": [
    "Age = int(input(\"Please Enter your Age\"))\n",
    "Nationality = str(input(\"Please Enter your Nationality\"))\n",
    "if Age >= 18 :\n",
    "    if Nationality == \"Indian\":\n",
    "        print(\"congratulation you are {} of age  and {} so Eligible to Vote \".format(Age,Nationality))\n",
    "    else:\n",
    "        print(\"Oh no !!! you are {} and not Eligible to Vote\".format(Nationality))\n",
    "else:\n",
    "        print(\"Oh no !!! you are {} years of age and not Eligible to Vote\".format(Age))\n",
    "    "
   ]
  },
  {
   "cell_type": "markdown",
   "id": "7ebc5f20-221d-46a0-bea5-fff77ab7cc68",
   "metadata": {},
   "source": [
    "## Question 9\n",
    "## Number Classification\n",
    "Write a Python program that takes an integer as input and classifies it:\n",
    "- If divisible by 2 and 3, print \"Divisible by both 2 and 3.\"\n",
    "- If divisible by only 2, print \"Divisible by 2.\"\n",
    "- If divisible by only 3, print \"Divisible by 3.\"\n",
    "- Otherwise, print \"Not divisible by 2 or 3.\""
   ]
  },
  {
   "cell_type": "code",
   "execution_count": 82,
   "id": "9a4a7140-7787-49fa-ad89-7872e7bb94fe",
   "metadata": {},
   "outputs": [
    {
     "name": "stdin",
     "output_type": "stream",
     "text": [
      "Enter number 7\n"
     ]
    },
    {
     "name": "stdout",
     "output_type": "stream",
     "text": [
      "Not Divisible by 2 and 3\n"
     ]
    }
   ],
   "source": [
    "Number = int(input(\"Enter number\"))\n",
    "if Number % 2 == 0 and Number % 3 == 0:\n",
    "    print(\"Divisible by 2 and 3\")\n",
    "elif Number % 2 == 0:\n",
    "      print(\"Divisible by 2\")\n",
    "elif Number % 3 == 0:\n",
    "      print(\"Divisible by 3\")\n",
    "else:\n",
    "      print(\"Not Divisible by 2 and 3\")"
   ]
  },
  {
   "cell_type": "markdown",
   "id": "d9e6608f-1945-4d51-bdd0-88fcae59b767",
   "metadata": {},
   "source": [
    "## Question 10\n",
    "## Largest of Three Numbers\n",
    "## Write a Python program that takes three numbers as input and prints the largest number using nested if-else statements."
   ]
  },
  {
   "cell_type": "code",
   "execution_count": 127,
   "id": "84fd65e1-c0db-40d8-aa32-5c8da7e9d352",
   "metadata": {},
   "outputs": [
    {
     "name": "stdin",
     "output_type": "stream",
     "text": [
      "Enter number 1:  7\n",
      "Enter number 2:  80\n",
      "Enter number 3:  29\n"
     ]
    },
    {
     "name": "stdout",
     "output_type": "stream",
     "text": [
      "Number 2 is the largest\n"
     ]
    }
   ],
   "source": [
    "Number_1 = int(input(\"Enter number 1: \"))\n",
    "Number_2 = int(input(\"Enter number 2: \"))\n",
    "Number_3 = int(input(\"Enter number 3: \"))\n",
    "\n",
    "if Number_1 >= Number_2:\n",
    "    if Number_1 >= Number_3:\n",
    "        print(\"Number 1 is the largest\")\n",
    "    else:\n",
    "        print(\"Number 3 is the largest\")\n",
    "else:\n",
    "    if Number_2 >= Number_3:\n",
    "        print(\"Number 2 is the largest\")\n",
    "    else:\n",
    "        print(\"Number 3 is the largest\")\n"
   ]
  }
 ],
 "metadata": {
  "kernelspec": {
   "display_name": "Python 3 (ipykernel)",
   "language": "python",
   "name": "python3"
  },
  "language_info": {
   "codemirror_mode": {
    "name": "ipython",
    "version": 3
   },
   "file_extension": ".py",
   "mimetype": "text/x-python",
   "name": "python",
   "nbconvert_exporter": "python",
   "pygments_lexer": "ipython3",
   "version": "3.12.7"
  }
 },
 "nbformat": 4,
 "nbformat_minor": 5
}
