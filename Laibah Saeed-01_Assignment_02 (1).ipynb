{
 "cells": [
  {
   "cell_type": "markdown",
   "id": "5bc28c35",
   "metadata": {},
   "source": [
    "Declare and print a variable with the name \"name\" containing your name.\n"
   ]
  },
  {
   "cell_type": "code",
   "execution_count": 230,
   "id": "4eb1e464",
   "metadata": {},
   "outputs": [
    {
     "name": "stdout",
     "output_type": "stream",
     "text": [
      "Hey i am  LAIBAH SAEED. Roll no : 01 \n"
     ]
    }
   ],
   "source": [
    "name =\"LAIBAH SAEED\"\n",
    "print(\"Hey i am \" ,name  +  \". Roll no : 01 \")"
   ]
  },
  {
   "cell_type": "markdown",
   "id": "b66e672b",
   "metadata": {},
   "source": [
    "Create two variables, x and y, and swap their values without using a third variable.\n"
   ]
  },
  {
   "cell_type": "code",
   "execution_count": 232,
   "id": "5734b25c",
   "metadata": {},
   "outputs": [
    {
     "name": "stdout",
     "output_type": "stream",
     "text": [
      "The value of x =  200\n",
      "The value of y =  100\n",
      "The swaped value of x and y are 200 100\n",
      "fruits =  tomato\n",
      "vegetables =  orange\n",
      "The swaped value of fruits and vegetables are orange tomato\n",
      "color :   mango\n",
      "fruit :   yellow\n",
      "The swaped value of color and fruits are yellow mango\n"
     ]
    }
   ],
   "source": [
    "x = 100\n",
    "y = 200\n",
    "x,y=y,x\n",
    "print(\"The value of x = \",x)\n",
    "print(\"The value of y = \",y)\n",
    "print(\"The swaped value of x and y are\",x,y)\n",
    "#example 2\n",
    "fruit = \"tomato\"\n",
    "vegetable = \"orange\"\n",
    "print(\"fruits = \",fruit)\n",
    "print(\"vegetables = \",vegetable)\n",
    "fruit,vegetable=vegetable,fruit\n",
    "print(\"The swaped value of fruits and vegetables are\",fruit,vegetable)\n",
    "#example 3\n",
    "color = \"mango\"\n",
    "fruit = \"yellow\"\n",
    "print(\"color :  \", color)\n",
    "print(\"fruit :  \", fruit)\n",
    "color,fruit = fruit,color\n",
    "print(\"The swaped value of color and fruits are\",color,fruit)"
   ]
  },
  {
   "cell_type": "markdown",
   "id": "68c5f126",
   "metadata": {},
   "source": [
    "Calculate the area of a rectangle with length and width stored in variables.\n"
   ]
  },
  {
   "cell_type": "code",
   "execution_count": 234,
   "id": "14f68574-b9ad-46fd-8068-cb0081aae2e8",
   "metadata": {},
   "outputs": [
    {
     "name": "stdout",
     "output_type": "stream",
     "text": [
      "30000\n"
     ]
    }
   ],
   "source": [
    "l = 100\n",
    "w = 300 \n",
    "area = l * w\n",
    "print(area)"
   ]
  },
  {
   "cell_type": "markdown",
   "id": "e452ae4d",
   "metadata": {},
   "source": [
    "Create a variable with a long string (multi-line) and print its length."
   ]
  },
  {
   "cell_type": "code",
   "execution_count": 236,
   "id": "0f7d6636",
   "metadata": {},
   "outputs": [
    {
     "name": "stdout",
     "output_type": "stream",
     "text": [
      "Hey ! I AM LAIBAH. \n",
      " HOW ARE YOU , \n",
      " ITS GREAT TO SEE YOU!. \n",
      "The length of multi line string is  60\n"
     ]
    }
   ],
   "source": [
    "multi_line = \"Hey ! I AM LAIBAH. \\n HOW ARE YOU , \\n ITS GREAT TO SEE YOU!. \" \n",
    "print(multi_line,)\n",
    "print(\"The length of multi line string is \",len(multi_line))"
   ]
  },
  {
   "cell_type": "markdown",
   "id": "708def01",
   "metadata": {},
   "source": [
    "Create a variable to store your favorite number and print it."
   ]
  },
  {
   "cell_type": "code",
   "execution_count": 238,
   "id": "d810e261",
   "metadata": {},
   "outputs": [
    {
     "name": "stdout",
     "output_type": "stream",
     "text": [
      "18\n",
      "My favourite number is :  18\n"
     ]
    }
   ],
   "source": [
    "my_num = 18\n",
    "print (my_num)\n",
    "print(\"My favourite number is : \" , my_num)"
   ]
  },
  {
   "cell_type": "code",
   "execution_count": 239,
   "id": "25a0cbc7-3024-42e3-8f8c-c807f7912a6c",
   "metadata": {},
   "outputs": [
    {
     "name": "stdout",
     "output_type": "stream",
     "text": [
      "fav: 18\n"
     ]
    }
   ],
   "source": [
    "my_num = \"18\"\n",
    "print (\"fav: \" +  my_num )"
   ]
  },
  {
   "cell_type": "markdown",
   "id": "9088a41e",
   "metadata": {},
   "source": [
    "Declare and assign values to multiple variables to represent the sides of a triangle. Calculate and print its perimeter.\n"
   ]
  },
  {
   "cell_type": "code",
   "execution_count": 241,
   "id": "13d9d2d2",
   "metadata": {},
   "outputs": [
    {
     "name": "stdout",
     "output_type": "stream",
     "text": [
      "120\n"
     ]
    }
   ],
   "source": [
    "x = 10 \n",
    "y = 90 \n",
    "z = 20\n",
    "print(x + y + z)"
   ]
  },
  {
   "cell_type": "code",
   "execution_count": 242,
   "id": "ea0e0693-2fd5-42fc-8725-71bff006073c",
   "metadata": {},
   "outputs": [
    {
     "name": "stdout",
     "output_type": "stream",
     "text": [
      "The perimeter of triangle is =  150\n"
     ]
    }
   ],
   "source": [
    "x,y,z = 40,50,60\n",
    "perimeter = x + y + z\n",
    "print(\"The perimeter of triangle is = \",perimeter)"
   ]
  },
  {
   "cell_type": "markdown",
   "id": "a76f2d4f",
   "metadata": {},
   "source": [
    "Store the price of an item in one variable and the quantity in another. Calculate and print the total cost.\n"
   ]
  },
  {
   "cell_type": "code",
   "execution_count": 244,
   "id": "8cc9115b",
   "metadata": {},
   "outputs": [
    {
     "name": "stdout",
     "output_type": "stream",
     "text": [
      "The total cost is :  100000\n"
     ]
    }
   ],
   "source": [
    "price = 1000\n",
    "quan = 100\n",
    "cost = price * quan\n",
    "print(\"The total cost is : \" ,cost)"
   ]
  },
  {
   "cell_type": "markdown",
   "id": "7d9d0793",
   "metadata": {},
   "source": [
    "Declare a constant variable for the value of pi (π) and use it to calculate the circumference of a circle with a given radius."
   ]
  },
  {
   "cell_type": "code",
   "execution_count": 246,
   "id": "254f3e92",
   "metadata": {},
   "outputs": [
    {
     "name": "stdout",
     "output_type": "stream",
     "text": [
      "the circumference of circle is = 87.9648\n"
     ]
    }
   ],
   "source": [
    "pi = 3.1416\n",
    "r = 14\n",
    "cir = 2 * pi * r\n",
    "print(\"the circumference of circle is =\",cir)"
   ]
  },
  {
   "cell_type": "markdown",
   "id": "2415eca0",
   "metadata": {},
   "source": [
    "Calculate the sum of two numbers, a and b."
   ]
  },
  {
   "cell_type": "code",
   "execution_count": 248,
   "id": "8eeee19d",
   "metadata": {},
   "outputs": [
    {
     "name": "stdout",
     "output_type": "stream",
     "text": [
      "30\n",
      "500\n"
     ]
    }
   ],
   "source": [
    "a = 10\n",
    "b = 20\n",
    "x = 200\n",
    "y = 300\n",
    "sum = x + y\n",
    "print(a + b)\n",
    "print(sum)"
   ]
  },
  {
   "cell_type": "markdown",
   "id": "2f3f9653",
   "metadata": {},
   "source": [
    "Calculate the product of two numbers, a and b.\n"
   ]
  },
  {
   "cell_type": "code",
   "execution_count": 250,
   "id": "baac0709",
   "metadata": {},
   "outputs": [
    {
     "name": "stdout",
     "output_type": "stream",
     "text": [
      "64\n"
     ]
    }
   ],
   "source": [
    "x = 8 \n",
    "product = x * x\n",
    "print(product)\n"
   ]
  },
  {
   "cell_type": "markdown",
   "id": "263bb83b",
   "metadata": {},
   "source": [
    "Calculate the result of dividing a by b (with proper error handling for division by zero).\n"
   ]
  },
  {
   "cell_type": "code",
   "execution_count": 28,
   "id": "783ef794",
   "metadata": {},
   "outputs": [
    {
     "name": "stdout",
     "output_type": "stream",
     "text": [
      "50 60\n",
      "Dividing a by b we get = 0.8333333333333334\n",
      "Cannot divide by zero\n"
     ]
    }
   ],
   "source": [
    "\n",
    "a = 50 \n",
    "b = 60\n",
    "\n",
    "\n",
    "try:\n",
    "    div = a / b\n",
    "    print(a, b)\n",
    "    print(\"Dividing a by b we get =\", div)\n",
    "except ZeroDivisionError:\n",
    "    print(\"Cannot divide by zero\")\n",
    "#EXAMPLE\n",
    "a = 50 \n",
    "b = 0\n",
    "\n",
    "\n",
    "try:\n",
    "    div = a / b\n",
    "    print(a, b)\n",
    "    print(\"Dividing a by b we get =\", div)\n",
    "except ZeroDivisionError:\n",
    "    print(\"Cannot divide by zero\")\n"
   ]
  },
  {
   "cell_type": "markdown",
   "id": "1160a016",
   "metadata": {},
   "source": [
    "Calculate the square of a number x."
   ]
  },
  {
   "cell_type": "code",
   "execution_count": 254,
   "id": "ba1443de",
   "metadata": {},
   "outputs": [
    {
     "name": "stdout",
     "output_type": "stream",
     "text": [
      "99980001\n",
      "43099225\n"
     ]
    }
   ],
   "source": [
    "x = 9999\n",
    "y = x * x\n",
    "print(y)\n",
    "\n",
    "y = 6565\n",
    "z = y**2\n",
    "print(z)"
   ]
  },
  {
   "cell_type": "code",
   "execution_count": 255,
   "id": "abf19831-232c-419f-9e24-426a70d1df37",
   "metadata": {},
   "outputs": [
    {
     "name": "stdout",
     "output_type": "stream",
     "text": [
      "78996544\n"
     ]
    }
   ],
   "source": [
    "def square(x):\n",
    "    return x * x\n",
    "\n",
    "a = 8888\n",
    "a = square(a)\n",
    "print(a)\n"
   ]
  },
  {
   "cell_type": "markdown",
   "id": "927cffd3",
   "metadata": {},
   "source": [
    "Calculate the remainder when a is divided by b."
   ]
  },
  {
   "cell_type": "code",
   "execution_count": 257,
   "id": "f95b1e5c",
   "metadata": {},
   "outputs": [
    {
     "name": "stdout",
     "output_type": "stream",
     "text": [
      "0\n",
      "the value of reminder is = 10\n"
     ]
    }
   ],
   "source": [
    "a = 400 \n",
    "b = 100\n",
    "reminder = a % b\n",
    "print (reminder)\n",
    "u = 900 \n",
    "v = 10\n",
    "reminder = v % u\n",
    "print(\"the value of reminder is =\",reminder)"
   ]
  },
  {
   "cell_type": "markdown",
   "id": "fad0381a",
   "metadata": {},
   "source": [
    " Calculate the result of dividing 17 by 3 and print the quotient and remainder."
   ]
  },
  {
   "cell_type": "code",
   "execution_count": 259,
   "id": "6bbe2ffb",
   "metadata": {},
   "outputs": [
    {
     "name": "stdout",
     "output_type": "stream",
     "text": [
      "Q = 5\n",
      "R = 2\n"
     ]
    }
   ],
   "source": [
    "a = 17\n",
    "b = 3\n",
    "qoutient = a // b\n",
    "reminder = a % b\n",
    "print(\"Q =\",qoutient)\n",
    "print(\"R =\",reminder)\n"
   ]
  },
  {
   "cell_type": "markdown",
   "id": "0abdb0ba",
   "metadata": {},
   "source": [
    "Calculate the area of a square with a given side length.\n"
   ]
  },
  {
   "cell_type": "code",
   "execution_count": 261,
   "id": "4a0edefb",
   "metadata": {},
   "outputs": [
    {
     "name": "stdout",
     "output_type": "stream",
     "text": [
      "10000\n"
     ]
    }
   ],
   "source": [
    "a = 100\n",
    "area = a**2 \n",
    "print(area)"
   ]
  },
  {
   "cell_type": "markdown",
   "id": "0c15704a",
   "metadata": {},
   "source": [
    "Calculate the average of five numbers.\n"
   ]
  },
  {
   "cell_type": "code",
   "execution_count": 263,
   "id": "ae66922d",
   "metadata": {},
   "outputs": [
    {
     "name": "stdout",
     "output_type": "stream",
     "text": [
      "6.2\n"
     ]
    }
   ],
   "source": [
    "avg = (3 + 5 + 6 + 8 + 9) / 5\n",
    "print(avg)"
   ]
  },
  {
   "cell_type": "markdown",
   "id": "da3cde84",
   "metadata": {},
   "source": [
    "Create a variable with a boolean value and print its opposite value.\n"
   ]
  },
  {
   "cell_type": "code",
   "execution_count": 265,
   "id": "0bb430b5",
   "metadata": {},
   "outputs": [
    {
     "name": "stdout",
     "output_type": "stream",
     "text": [
      "original value: True\n",
      "negate value: False\n"
     ]
    }
   ],
   "source": [
    "foggy_weather = True\n",
    "print(\"original value:\", foggy_weather)\n",
    "print(\"negate value:\", not foggy_weather)"
   ]
  },
  {
   "cell_type": "markdown",
   "id": "d800b510",
   "metadata": {},
   "source": [
    "Store your birth year in a variable and calculate your age."
   ]
  },
  {
   "cell_type": "code",
   "execution_count": 267,
   "id": "94ac0a22",
   "metadata": {},
   "outputs": [
    {
     "name": "stdout",
     "output_type": "stream",
     "text": [
      "I am  24  years of age.\n"
     ]
    }
   ],
   "source": [
    "birth_year = 2000\n",
    "current_year = 2024\n",
    "age = current_year - birth_year\n",
    "print(\"I am \",age,\" years of age.\")"
   ]
  },
  {
   "cell_type": "markdown",
   "id": "193bd0c7",
   "metadata": {},
   "source": [
    "Create a variable with an integer and convert it to a float."
   ]
  },
  {
   "cell_type": "code",
   "execution_count": 269,
   "id": "c862dfa4",
   "metadata": {
    "scrolled": true
   },
   "outputs": [
    {
     "name": "stdout",
     "output_type": "stream",
     "text": [
      "The value of float number a is :  188.0\n"
     ]
    }
   ],
   "source": [
    "a  = 188\n",
    "f = float(a)\n",
    "print(\"The value of float number a is : \",f)"
   ]
  },
  {
   "cell_type": "markdown",
   "id": "d6e985ae",
   "metadata": {},
   "source": [
    "Create a variable with a float and convert it to an integer."
   ]
  },
  {
   "cell_type": "code",
   "execution_count": 271,
   "id": "db782f94",
   "metadata": {},
   "outputs": [
    {
     "name": "stdout",
     "output_type": "stream",
     "text": [
      "The value of integer a is :  18\n"
     ]
    }
   ],
   "source": [
    "a  = 18.90909\n",
    "I = int(a)\n",
    "print(\"The value of integer a is : \",I)"
   ]
  },
  {
   "cell_type": "markdown",
   "id": "03fbd24c",
   "metadata": {},
   "source": [
    "Create a variable with a string that represents an integer and convert it to an integer."
   ]
  },
  {
   "cell_type": "code",
   "execution_count": 273,
   "id": "15e98a9c",
   "metadata": {},
   "outputs": [
    {
     "name": "stdout",
     "output_type": "stream",
     "text": [
      "18\n",
      "<class 'int'>\n"
     ]
    }
   ],
   "source": [
    "\n",
    "l = \"18\"\n",
    "s = int(l)\n",
    "print(s)  \n",
    "print(type(s)) \n"
   ]
  },
  {
   "cell_type": "markdown",
   "id": "7b82ee26",
   "metadata": {},
   "source": [
    "Create a variable with a string that represents a float and convert it to a float.\n"
   ]
  },
  {
   "cell_type": "code",
   "execution_count": 275,
   "id": "31b96ee5",
   "metadata": {},
   "outputs": [
    {
     "name": "stdout",
     "output_type": "stream",
     "text": [
      "3.999999\n",
      "<class 'float'>\n"
     ]
    }
   ],
   "source": [
    "v = \"3.999999\"\n",
    "f = float(v)\n",
    "print(f)\n",
    "print(type(f))"
   ]
  },
  {
   "cell_type": "markdown",
   "id": "55b70302",
   "metadata": {},
   "source": [
    "Create a variable with a number and convert it to a string."
   ]
  },
  {
   "cell_type": "code",
   "execution_count": 277,
   "id": "191ca6c0",
   "metadata": {},
   "outputs": [
    {
     "name": "stdout",
     "output_type": "stream",
     "text": [
      "<class 'int'>\n",
      "181224\n"
     ]
    }
   ],
   "source": [
    "v = 181224\n",
    "string =v\n",
    "print(type(string))\n",
    "print(v)"
   ]
  },
  {
   "cell_type": "code",
   "execution_count": 278,
   "id": "0d0fb273-4797-4bb9-8b0b-751e467c12e2",
   "metadata": {},
   "outputs": [
    {
     "name": "stdout",
     "output_type": "stream",
     "text": [
      "<class 'str'>\n",
      "181224\n"
     ]
    }
   ],
   "source": [
    "v = 181224\n",
    "string =str(v)\n",
    "print(type(string))\n",
    "print(v)\n"
   ]
  },
  {
   "cell_type": "markdown",
   "id": "12030234",
   "metadata": {},
   "source": [
    "Calculate the absolute value of a number.\n",
    "\n"
   ]
  },
  {
   "cell_type": "code",
   "execution_count": 280,
   "id": "e6e2dbb2",
   "metadata": {},
   "outputs": [
    {
     "name": "stdout",
     "output_type": "stream",
     "text": [
      "-60 -90\n",
      "60 90\n"
     ]
    }
   ],
   "source": [
    "number_1, number_2 =-60, -90\n",
    "print(number_1,number_2)\n",
    "absolute1 = abs(number_1)\n",
    "absolute2 = abs(number_2)\n",
    "print(absolute1,absolute2)\n",
    "\n",
    "\n"
   ]
  },
  {
   "cell_type": "markdown",
   "id": "0bcb4315",
   "metadata": {},
   "source": [
    "Calculate the square root of a number.\n"
   ]
  },
  {
   "cell_type": "code",
   "execution_count": 282,
   "id": "a1649a20-2b58-4bee-a124-c695ff330d2b",
   "metadata": {},
   "outputs": [
    {
     "name": "stdout",
     "output_type": "stream",
     "text": [
      "The square root of a num is =  4.348458347506619\n"
     ]
    }
   ],
   "source": [
    "import math \n",
    "num = 25 \n",
    "square_root = math.sqrt(a)\n",
    "print(\"The square root of a num is = \",square_root)"
   ]
  },
  {
   "cell_type": "markdown",
   "id": "3b8743eb",
   "metadata": {},
   "source": [
    "Calculate the value of a raised to the power of b.\n"
   ]
  },
  {
   "cell_type": "code",
   "execution_count": 284,
   "id": "d278563f",
   "metadata": {},
   "outputs": [
    {
     "name": "stdout",
     "output_type": "stream",
     "text": [
      "The value of a raised to the power of b = 25\n"
     ]
    }
   ],
   "source": [
    "a = 5\n",
    "b = 2\n",
    "power = a**b\n",
    "print(\"The value of a raised to the power of b =\",power)"
   ]
  },
  {
   "cell_type": "markdown",
   "id": "d06e7a77",
   "metadata": {},
   "source": [
    "Round a float to the nearest integer."
   ]
  },
  {
   "cell_type": "code",
   "execution_count": 286,
   "id": "2f5873c3",
   "metadata": {},
   "outputs": [
    {
     "name": "stdout",
     "output_type": "stream",
     "text": [
      "5.999\n",
      "5\n"
     ]
    }
   ],
   "source": [
    "\n",
    "a = 5.999\n",
    "round_number = int(a)\n",
    "print(a)\n",
    "print(round_number)"
   ]
  },
  {
   "cell_type": "markdown",
   "id": "34f33237",
   "metadata": {},
   "source": [
    "Combine multiple conditions using logical operators and print the result."
   ]
  },
  {
   "cell_type": "code",
   "execution_count": 288,
   "id": "687d14b0",
   "metadata": {},
   "outputs": [
    {
     "name": "stdout",
     "output_type": "stream",
     "text": [
      "The value of and is =  False\n",
      "The value of or is =  True\n",
      "The value of not is =  (False, True)\n"
     ]
    }
   ],
   "source": [
    "X = 100\n",
    "Y = 200 \n",
    "Z = 100 \n",
    "result = (X < Y) and (Y < Z)\n",
    "print(\"The value of and is = \",result)\n",
    "\n",
    "# OR \n",
    "X = 100\n",
    "Y = 200 \n",
    "Z = 100 \n",
    "result = (X < Y) or (Y < Z)\n",
    "print(\"The value of or is = \",result)\n",
    "\n",
    "#not\n",
    "X = 100\n",
    "Y = 200 \n",
    "Z = 100 \n",
    "result = not (X < Y) , not (Y< Z)\n",
    "print(\"The value of not is = \",result)"
   ]
  },
  {
   "cell_type": "code",
   "execution_count": 289,
   "id": "4da8658a-5046-4200-8acb-9d073a07cdd0",
   "metadata": {},
   "outputs": [
    {
     "name": "stdout",
     "output_type": "stream",
     "text": [
      "The bulb is on: False\n",
      "The bulb is on even if power is on : True\n",
      "The bulb is on: False\n"
     ]
    }
   ],
   "source": [
    "# example 2\n",
    "power_on  = True\n",
    "switch_on = False\n",
    "\n",
    "bulb_on = power_on  and switch_on\n",
    "print(\"The bulb is on:\", bulb_on) \n",
    "\n",
    "bulb_on = power_on or switch_on\n",
    "print(\"The bulb is on even if power is on :\", bulb_on) \n",
    "#not\n",
    "bulb_on = not(power_on)\n",
    "print(\"The bulb is on:\", bulb_on)\n"
   ]
  },
  {
   "cell_type": "markdown",
   "id": "ab20128b",
   "metadata": {},
   "source": [
    "Generate a random number between 1 and 100.**(challenging)**\n"
   ]
  },
  {
   "cell_type": "code",
   "execution_count": 291,
   "id": "08b1a18f",
   "metadata": {},
   "outputs": [
    {
     "name": "stdout",
     "output_type": "stream",
     "text": [
      "Random number between 1 and 100: 4\n"
     ]
    }
   ],
   "source": [
    "import random\n",
    "\n",
    "random_numb= random.randint(1, 100)\n",
    "print(\"Random number between 1 and 100:\", random_numb)\n"
   ]
  }
 ],
 "metadata": {
  "kernelspec": {
   "display_name": "Python 3 (ipykernel)",
   "language": "python",
   "name": "python3"
  },
  "language_info": {
   "codemirror_mode": {
    "name": "ipython",
    "version": 3
   },
   "file_extension": ".py",
   "mimetype": "text/x-python",
   "name": "python",
   "nbconvert_exporter": "python",
   "pygments_lexer": "ipython3",
   "version": "3.12.7"
  }
 },
 "nbformat": 4,
 "nbformat_minor": 5
}
