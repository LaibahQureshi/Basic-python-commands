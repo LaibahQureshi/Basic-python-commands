{
 "cells": [
  {
   "cell_type": "code",
   "execution_count": null,
   "metadata": {
    "id": "CxwAgoMz9DHm"
   },
   "outputs": [],
   "source": [
    "import random\n",
    "question = {\"What is the largest desert in the world?\":\"Antartica\",\n",
    "            \"Which country has the largest number of islands in the world\":\"Sweden\",\n",
    "            \"What is the smallest country in the world by land area?\":\"Vatican city\",\n",
    "            \"Which river is the longest in the world?\":\"The Nile River\",\n",
    "            \"Mount Everest is located in which two countries?\":\"Nepal and China (Tibet)\",\n",
    "            \"What is the capital city of Australia?\":\"Canbera\"}"
   ]
  },
  {
   "cell_type": "code",
   "execution_count": 1,
   "metadata": {
    "colab": {
     "base_uri": "https://localhost:8080/"
    },
    "id": "AssyGOlGFsXY",
    "outputId": "e85d6eb8-0f06-45dd-eaa2-ab1f89186fc3"
   },
   "outputs": [
    {
     "ename": "NameError",
     "evalue": "name 'question' is not defined",
     "output_type": "error",
     "traceback": [
      "\u001b[1;31m---------------------------------------------------------------------------\u001b[0m",
      "\u001b[1;31mNameError\u001b[0m                                 Traceback (most recent call last)",
      "Cell \u001b[1;32mIn[1], line 21\u001b[0m\n\u001b[0;32m     17\u001b[0m             \u001b[38;5;28mprint\u001b[39m(\u001b[38;5;124mf\u001b[39m\u001b[38;5;124m\"\u001b[39m\u001b[38;5;124mWrong! The correct answer is \u001b[39m\u001b[38;5;132;01m{\u001b[39;00mcorrect_answer\u001b[38;5;132;01m}\u001b[39;00m\u001b[38;5;130;01m\\n\u001b[39;00m\u001b[38;5;124m\"\u001b[39m)\n\u001b[0;32m     19\u001b[0m     \u001b[38;5;28mprint\u001b[39m(\u001b[38;5;124mf\u001b[39m\u001b[38;5;124m\"\u001b[39m\u001b[38;5;124mYour score is: \u001b[39m\u001b[38;5;132;01m{\u001b[39;00mscore\u001b[38;5;132;01m}\u001b[39;00m\u001b[38;5;124m/\u001b[39m\u001b[38;5;132;01m{\u001b[39;00mtotal_questions\u001b[38;5;132;01m}\u001b[39;00m\u001b[38;5;124m\"\u001b[39m)\n\u001b[1;32m---> 21\u001b[0m game(question)\n",
      "\u001b[1;31mNameError\u001b[0m: name 'question' is not defined"
     ]
    }
   ],
   "source": [
    "import random\n",
    "\n",
    "def game(questions):\n",
    "    question_list = list(questions.keys())\n",
    "    total_questions = len(question_list)\n",
    "    score = 0\n",
    "    selected_questions = random.sample(question_list, total_questions)\n",
    "\n",
    "    for i, question in enumerate(selected_questions):\n",
    "        print(f\"{i + 1}. {question}\")\n",
    "        answer = input(\"Your answer is: \").lower().strip()\n",
    "        correct_answer = questions[question].lower()\n",
    "        if answer == correct_answer:\n",
    "            print(\"Correct answer!\\n\")\n",
    "            score += 1\n",
    "        else:\n",
    "            print(f\"Wrong! The correct answer is {correct_answer}\\n\")\n",
    "\n",
    "    print(f\"Your score is: {score}/{total_questions}\")\n",
    "\n",
    "game(question)\n"
   ]
  },
  {
   "cell_type": "code",
   "execution_count": null,
   "metadata": {
    "id": "-kUayby4C9Rj"
   },
   "outputs": [],
   "source": []
  },
  {
   "cell_type": "code",
   "execution_count": null,
   "metadata": {
    "id": "0ekHIwceJiRH"
   },
   "outputs": [],
   "source": []
  }
 ],
 "metadata": {
  "colab": {
   "provenance": []
  },
  "kernelspec": {
   "display_name": "Python 3 (ipykernel)",
   "language": "python",
   "name": "python3"
  },
  "language_info": {
   "codemirror_mode": {
    "name": "ipython",
    "version": 3
   },
   "file_extension": ".py",
   "mimetype": "text/x-python",
   "name": "python",
   "nbconvert_exporter": "python",
   "pygments_lexer": "ipython3",
   "version": "3.12.7"
  }
 },
 "nbformat": 4,
 "nbformat_minor": 4
}
