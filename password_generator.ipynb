{
 "cells": [
  {
   "cell_type": "code",
   "execution_count": 1,
   "metadata": {
    "id": "2oFymJF_kDz3"
   },
   "outputs": [],
   "source": [
    "import random\n",
    "import string"
   ]
  },
  {
   "cell_type": "code",
   "execution_count": 2,
   "metadata": {
    "id": "HoY_B881sM5-"
   },
   "outputs": [],
   "source": [
    "def password_generator():\n",
    "  length = int(input(\"Enter your desired length : \"))\n",
    "  try:\n",
    "    if length < 4 or length > 8:\n",
    "      raise ValueError(\"password must be atleast 4 to 8 characters\")\n",
    "  except ValueError as e:\n",
    "    print(e)\n",
    "    return\n",
    "  letters = input(\"do you want to include letters : yes/no \").strip().lower()\n",
    "  digits = input(\"do you want to include digits : yes/no \").strip().lower()\n",
    "  special_characters = input(\"do you want to include special characters : yes/no \").strip().lower()\n",
    "\n",
    "  lower = string.ascii_letters.lower()\n",
    "  upper = string.ascii_letters.upper() if letters == \"yes\" else \"\"\n",
    "  digits = string.digits if digits == \"yes\" else \"\"\n",
    "  special_characters = string.punctuation if special_characters == \"yes\" else \"\"\n",
    "  all = lower + upper + digits + special_characters\n",
    "\n",
    "  required = []\n",
    "  if letters == \"yes\":\n",
    "    required.append(random.choice(string.ascii_letters))\n",
    "  if digits == \"yes\":\n",
    "    required.append(random.choice(string.digits))\n",
    "  if special_characters == \"yes\":\n",
    "    required.append(random.choice(string.punctuation))\n",
    "\n",
    "  remaining =  length - len(required)\n",
    "  password = required\n",
    "  for _ in range(remaining):\n",
    "    character = random.choice(all)\n",
    "    required.append(character)\n",
    "    random.shuffle(required)\n",
    "\n",
    "  print(password)"
   ]
  },
  {
   "cell_type": "code",
   "execution_count": null,
   "metadata": {
    "id": "I1_8MVFdl6L4"
   },
   "outputs": [],
   "source": []
  },
  {
   "cell_type": "code",
   "execution_count": 3,
   "metadata": {
    "colab": {
     "base_uri": "https://localhost:8080/"
    },
    "id": "LLMfp5nsvHjL",
    "outputId": "79f3e990-8161-4afa-a7f1-3bdf409e456b"
   },
   "outputs": [
    {
     "name": "stdout",
     "output_type": "stream",
     "text": [
      "Enter your desired length : 4\n",
      "do you want to include letters : yes/no no\n",
      "do you want to include digits : yes/no no\n",
      "do you want to include special characters : yes/no yes\n",
      "['%', 'n', '^', 't']\n"
     ]
    }
   ],
   "source": [
    "password_generator()\n"
   ]
  },
  {
   "cell_type": "code",
   "execution_count": null,
   "metadata": {
    "id": "oZWXQ1GTvHYE"
   },
   "outputs": [],
   "source": [
    "\n"
   ]
  },
  {
   "cell_type": "code",
   "execution_count": null,
   "metadata": {
    "id": "J038jS9guyJY"
   },
   "outputs": [],
   "source": []
  }
 ],
 "metadata": {
  "colab": {
   "provenance": []
  },
  "kernelspec": {
   "display_name": "Python 3 (ipykernel)",
   "language": "python",
   "name": "python3"
  },
  "language_info": {
   "codemirror_mode": {
    "name": "ipython",
    "version": 3
   },
   "file_extension": ".py",
   "mimetype": "text/x-python",
   "name": "python",
   "nbconvert_exporter": "python",
   "pygments_lexer": "ipython3",
   "version": "3.12.7"
  }
 },
 "nbformat": 4,
 "nbformat_minor": 4
}
